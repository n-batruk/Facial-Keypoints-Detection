{
 "cells": [
  {
   "cell_type": "code",
   "execution_count": 203,
   "metadata": {},
   "outputs": [],
   "source": [
    "import zipfile\n",
    "import tensorflow as tf \n",
    "from tensorflow.keras import layers\n",
    "import matplotlib.pyplot as plt\n",
    "import numpy as np"
   ]
  },
  {
   "cell_type": "code",
   "execution_count": 7,
   "metadata": {},
   "outputs": [],
   "source": [
    "with zipfile.ZipFile('raw data/test.zip', 'r') as files:\n",
    "    files.extractall('test data')\n",
    "\n",
    "with zipfile.ZipFile('raw data/training.zip', 'r') as files:\n",
    "    files.extractall('train data')"
   ]
  },
  {
   "cell_type": "code",
   "execution_count": 196,
   "metadata": {},
   "outputs": [],
   "source": [
    "TRAINING_FILE_PATH = 'train data/training.csv'\n",
    "VALIDATION_FILE_PATH = 'test data/test.csv'"
   ]
  },
  {
   "cell_type": "code",
   "execution_count": 197,
   "metadata": {},
   "outputs": [],
   "source": [
    "import pandas as pd\n",
    "\n",
    "train_data = pd.read_csv(TRAINING_FILE_PATH)\n",
    "val_data = pd.read_csv(VALIDATION_FILE_PATH)"
   ]
  },
  {
   "cell_type": "code",
   "execution_count": 198,
   "metadata": {},
   "outputs": [
    {
     "name": "stdout",
     "output_type": "stream",
     "text": [
      "Empty DataFrame\n",
      "Columns: [left_eye_center_x, left_eye_center_y, right_eye_center_x, right_eye_center_y, left_eye_inner_corner_x, left_eye_inner_corner_y, left_eye_outer_corner_x, left_eye_outer_corner_y, right_eye_inner_corner_x, right_eye_inner_corner_y, right_eye_outer_corner_x, right_eye_outer_corner_y, left_eyebrow_inner_end_x, left_eyebrow_inner_end_y, left_eyebrow_outer_end_x, left_eyebrow_outer_end_y, right_eyebrow_inner_end_x, right_eyebrow_inner_end_y, right_eyebrow_outer_end_x, right_eyebrow_outer_end_y, nose_tip_x, nose_tip_y, mouth_left_corner_x, mouth_left_corner_y, mouth_right_corner_x, mouth_right_corner_y, mouth_center_top_lip_x, mouth_center_top_lip_y, mouth_center_bottom_lip_x, mouth_center_bottom_lip_y, Image]\n",
      "Index: []\n",
      "\n",
      "[0 rows x 31 columns]\n",
      "   ImageId                                              Image\n",
      "0        1  182 183 182 182 180 180 176 169 156 137 124 10...\n"
     ]
    }
   ],
   "source": [
    "print(train_data.head(0))\n",
    "print(val_data.head(1))"
   ]
  },
  {
   "cell_type": "code",
   "execution_count": 38,
   "metadata": {},
   "outputs": [
    {
     "name": "stdout",
     "output_type": "stream",
     "text": [
      "<class 'pandas.core.frame.DataFrame'>\n",
      "RangeIndex: 7049 entries, 0 to 7048\n",
      "Data columns (total 31 columns):\n",
      " #   Column                     Non-Null Count  Dtype  \n",
      "---  ------                     --------------  -----  \n",
      " 0   left_eye_center_x          7039 non-null   float64\n",
      " 1   left_eye_center_y          7039 non-null   float64\n",
      " 2   right_eye_center_x         7036 non-null   float64\n",
      " 3   right_eye_center_y         7036 non-null   float64\n",
      " 4   left_eye_inner_corner_x    2271 non-null   float64\n",
      " 5   left_eye_inner_corner_y    2271 non-null   float64\n",
      " 6   left_eye_outer_corner_x    2267 non-null   float64\n",
      " 7   left_eye_outer_corner_y    2267 non-null   float64\n",
      " 8   right_eye_inner_corner_x   2268 non-null   float64\n",
      " 9   right_eye_inner_corner_y   2268 non-null   float64\n",
      " 10  right_eye_outer_corner_x   2268 non-null   float64\n",
      " 11  right_eye_outer_corner_y   2268 non-null   float64\n",
      " 12  left_eyebrow_inner_end_x   2270 non-null   float64\n",
      " 13  left_eyebrow_inner_end_y   2270 non-null   float64\n",
      " 14  left_eyebrow_outer_end_x   2225 non-null   float64\n",
      " 15  left_eyebrow_outer_end_y   2225 non-null   float64\n",
      " 16  right_eyebrow_inner_end_x  2270 non-null   float64\n",
      " 17  right_eyebrow_inner_end_y  2270 non-null   float64\n",
      " 18  right_eyebrow_outer_end_x  2236 non-null   float64\n",
      " 19  right_eyebrow_outer_end_y  2236 non-null   float64\n",
      " 20  nose_tip_x                 7049 non-null   float64\n",
      " 21  nose_tip_y                 7049 non-null   float64\n",
      " 22  mouth_left_corner_x        2269 non-null   float64\n",
      " 23  mouth_left_corner_y        2269 non-null   float64\n",
      " 24  mouth_right_corner_x       2270 non-null   float64\n",
      " 25  mouth_right_corner_y       2270 non-null   float64\n",
      " 26  mouth_center_top_lip_x     2275 non-null   float64\n",
      " 27  mouth_center_top_lip_y     2275 non-null   float64\n",
      " 28  mouth_center_bottom_lip_x  7016 non-null   float64\n",
      " 29  mouth_center_bottom_lip_y  7016 non-null   float64\n",
      " 30  Image                      7049 non-null   object \n",
      "dtypes: float64(30), object(1)\n",
      "memory usage: 1.7+ MB\n",
      "None\n"
     ]
    }
   ],
   "source": [
    "print(train_data.info())"
   ]
  },
  {
   "cell_type": "code",
   "execution_count": 68,
   "metadata": {},
   "outputs": [
    {
     "name": "stdout",
     "output_type": "stream",
     "text": [
      "<class 'pandas.core.frame.DataFrame'>\n",
      "RangeIndex: 1783 entries, 0 to 1782\n",
      "Data columns (total 2 columns):\n",
      " #   Column   Non-Null Count  Dtype \n",
      "---  ------   --------------  ----- \n",
      " 0   ImageId  1783 non-null   int64 \n",
      " 1   Image    1783 non-null   object\n",
      "dtypes: int64(1), object(1)\n",
      "memory usage: 28.0+ KB\n",
      "None\n"
     ]
    }
   ],
   "source": [
    "print(test_data.info())"
   ]
  },
  {
   "cell_type": "code",
   "execution_count": 66,
   "metadata": {},
   "outputs": [
    {
     "data": {
      "text/plain": [
       "left_eye_center_x              10\n",
       "left_eye_center_y              10\n",
       "right_eye_center_x             13\n",
       "right_eye_center_y             13\n",
       "left_eye_inner_corner_x      4778\n",
       "left_eye_inner_corner_y      4778\n",
       "left_eye_outer_corner_x      4782\n",
       "left_eye_outer_corner_y      4782\n",
       "right_eye_inner_corner_x     4781\n",
       "right_eye_inner_corner_y     4781\n",
       "right_eye_outer_corner_x     4781\n",
       "right_eye_outer_corner_y     4781\n",
       "left_eyebrow_inner_end_x     4779\n",
       "left_eyebrow_inner_end_y     4779\n",
       "left_eyebrow_outer_end_x     4824\n",
       "left_eyebrow_outer_end_y     4824\n",
       "right_eyebrow_inner_end_x    4779\n",
       "right_eyebrow_inner_end_y    4779\n",
       "right_eyebrow_outer_end_x    4813\n",
       "right_eyebrow_outer_end_y    4813\n",
       "nose_tip_x                      0\n",
       "nose_tip_y                      0\n",
       "mouth_left_corner_x          4780\n",
       "mouth_left_corner_y          4780\n",
       "mouth_right_corner_x         4779\n",
       "mouth_right_corner_y         4779\n",
       "mouth_center_top_lip_x       4774\n",
       "mouth_center_top_lip_y       4774\n",
       "mouth_center_bottom_lip_x      33\n",
       "mouth_center_bottom_lip_y      33\n",
       "Image                           0\n",
       "dtype: int64"
      ]
     },
     "execution_count": 66,
     "metadata": {},
     "output_type": "execute_result"
    }
   ],
   "source": [
    "train_data.isnull().sum()"
   ]
  },
  {
   "cell_type": "code",
   "execution_count": 199,
   "metadata": {},
   "outputs": [
    {
     "data": {
      "text/plain": [
       "ImageId    0\n",
       "Image      0\n",
       "dtype: int64"
      ]
     },
     "execution_count": 199,
     "metadata": {},
     "output_type": "execute_result"
    }
   ],
   "source": [
    "val_data.isnull().sum()"
   ]
  },
  {
   "cell_type": "code",
   "execution_count": 72,
   "metadata": {},
   "outputs": [
    {
     "data": {
      "text/plain": [
       "0       False\n",
       "1       False\n",
       "2       False\n",
       "3       False\n",
       "4       False\n",
       "        ...  \n",
       "7044    False\n",
       "7045    False\n",
       "7046    False\n",
       "7047    False\n",
       "7048    False\n",
       "Name: left_eye_center_x, Length: 7049, dtype: bool"
      ]
     },
     "execution_count": 72,
     "metadata": {},
     "output_type": "execute_result"
    }
   ],
   "source": [
    "train_data['left_eye_center_x'].isnull()"
   ]
  },
  {
   "cell_type": "code",
   "execution_count": 130,
   "metadata": {},
   "outputs": [],
   "source": [
    "def split_data(data_set):\n",
    "    x = []\n",
    "    for i in range(len(data_set)):\n",
    "        x.append(data_set['Image'][i].split(' '))\n",
    "    x = np.array(x, dtype= 'float')\n",
    "    \n",
    "    y = data_set.iloc[:, :-1].values\n",
    "    return x,y\n",
    "    "
   ]
  },
  {
   "cell_type": "code",
   "execution_count": 143,
   "metadata": {},
   "outputs": [],
   "source": [
    "X_train, Y_train = split_data(train_data[:2284])"
   ]
  },
  {
   "cell_type": "code",
   "execution_count": 153,
   "metadata": {},
   "outputs": [
    {
     "name": "stdout",
     "output_type": "stream",
     "text": [
      "<class 'numpy.ndarray'>\n",
      "[66.6837551  34.48342857 30.7844898  38.57893878 59.25534694 36.06514286\n",
      " 73.94269388 34.62465306 37.47853061 39.39804082 22.05681633 40.33012245\n",
      " 53.29978747 29.98765747 80.94778747 27.97753502 38.77929767 33.30259624\n",
      " 14.79888951 35.98275951 49.97387755 59.26938775 72.60043255 71.86204134\n",
      " 34.23275908 77.3394291  51.59945296 75.96359236 52.92337132 82.66106175]\n",
      "2284\n"
     ]
    }
   ],
   "source": [
    "print(type(X_train))\n",
    "\n",
    "print(Y_train[-1])\n",
    "print(len(Y_train))"
   ]
  },
  {
   "cell_type": "code",
   "execution_count": 175,
   "metadata": {},
   "outputs": [],
   "source": [
    "from sklearn.impute import SimpleImputer\n",
    "\n",
    "imputer = SimpleImputer(missing_values=np.nan, strategy='mean')\n",
    "imputer.fit(Y_train)\n",
    "Y_train = imputer.transform(Y_train)\n"
   ]
  },
  {
   "cell_type": "code",
   "execution_count": 182,
   "metadata": {},
   "outputs": [
    {
     "name": "stdout",
     "output_type": "stream",
     "text": [
      "65.7826242038\n",
      "66.1211401397062\n",
      "59.336079734\n",
      "59.15933943740389\n",
      "(2284, 9216)\n",
      "(2284, 30)\n"
     ]
    }
   ],
   "source": [
    "print(Y_train[556,0])\n",
    "print(Y_train[2239,0])\n",
    "print(Y_train[1600,4])\n",
    "print(Y_train[1654,4])\n",
    "print(X_train.shape)\n",
    "print(Y_train.shape)"
   ]
  },
  {
   "cell_type": "code",
   "execution_count": 185,
   "metadata": {},
   "outputs": [
    {
     "name": "stdout",
     "output_type": "stream",
     "text": [
      "(2284, 96, 96)\n"
     ]
    }
   ],
   "source": [
    "X_train = X_train.reshape(-1, 96, 96)\n",
    "print(X_train.shape)"
   ]
  },
  {
   "cell_type": "code",
   "execution_count": 186,
   "metadata": {},
   "outputs": [],
   "source": [
    "X_train = X_train/255.0"
   ]
  },
  {
   "cell_type": "code",
   "execution_count": 195,
   "metadata": {},
   "outputs": [
    {
     "data": {
      "text/plain": [
       "<matplotlib.collections.PathCollection at 0x507f08e50>"
      ]
     },
     "execution_count": 195,
     "metadata": {},
     "output_type": "execute_result"
    },
    {
     "data": {
      "image/png": "[encoded data removed]",
      "text/plain": [
       "<Figure size 640x480 with 1 Axes>"
      ]
     },
     "metadata": {},
     "output_type": "display_data"
    }
   ],
   "source": [
    "plt.imshow(X_train[0], cmap = 'grey')\n",
    "plt.scatter(Y_train[0][::2], Y_train[0][1::2], marker='o', c='red')"
   ]
  },
  {
   "cell_type": "code",
   "execution_count": 200,
   "metadata": {},
   "outputs": [],
   "source": [
    "from sklearn.model_selection import train_test_split\n",
    "\n",
    "X_train, X_test, Y_train, Y_test = train_test_split(X_train, Y_train, test_size=0.2)"
   ]
  },
  {
   "cell_type": "code",
   "execution_count": 201,
   "metadata": {},
   "outputs": [],
   "source": [
    "train_dataset = tf.data.Dataset.from_tensor_slices((X_train, Y_train)).batch(64)\n",
    "test_dataset = tf.data.Dataset.from_tensor_slices((X_test, Y_test)).batch(64)"
   ]
  },
  {
   "cell_type": "code",
   "execution_count": 212,
   "metadata": {},
   "outputs": [],
   "source": [
    "def model_prep(arch_func,input_shape, epochs):\n",
    "    model = arch_func(input_shape)\n",
    "    model.compile(optimizer = 'Adam',\n",
    "                  loss = 'mse',\n",
    "                  metrics = ['accuracy'])\n",
    "    history = model.fit(train_dataset, epochs = epochs, validation_data = test_dataset)\n",
    "    return history, model"
   ]
  },
  {
   "cell_type": "code",
   "execution_count": 213,
   "metadata": {},
   "outputs": [],
   "source": [
    "def inception_module(x, filters):\n",
    "    conv1x1 = layers.Conv2D(filters[0], (1, 1), padding='same', activation='relu')(x)\n",
    "    \n",
    "    conv3x3_reduce = layers.Conv2D(filters[1], (1, 1), padding='same', activation='relu')(x)\n",
    "    conv3x3 = layers.Conv2D(filters[2], (3, 3), padding='same', activation='relu')(conv3x3_reduce)\n",
    "    \n",
    "    conv5x5_reduce = layers.Conv2D(filters[3], (1, 1), padding='same', activation='relu')(x)\n",
    "    conv5x5 = layers.Conv2D(filters[4], (5, 5), padding='same', activation='relu')(conv5x5_reduce)\n",
    "    \n",
    "    maxpool = layers.MaxPooling2D((3, 3), strides=(1, 1), padding='same')(x)\n",
    "    maxpool_proj = layers.Conv2D(filters[5], (1, 1), padding='same', activation='relu')(maxpool)\n",
    "    \n",
    "    inception_output = layers.concatenate([conv1x1, conv3x3, conv5x5, maxpool_proj], axis=-1)\n",
    "    return inception_output"
   ]
  },
  {
   "cell_type": "code",
   "execution_count": 214,
   "metadata": {},
   "outputs": [],
   "source": [
    "def googlenet(input_shape):\n",
    "    input_layer = layers.Input(shape=input_shape)\n",
    "    \n",
    "    # Initial Convolution and MaxPooling\n",
    "    x = layers.Conv2D(64, (7, 7), strides=(2, 2), padding='same', activation='relu')(input_layer)\n",
    "    x = layers.MaxPooling2D((3, 3), strides=(2, 2), padding='same')(x)\n",
    "    \n",
    "    # Inception Modules\n",
    "    x = inception_module(x, [64, 64, 128, 32, 32, 32])\n",
    "    x = inception_module(x, [128, 128, 192, 96, 96, 64])\n",
    "    \n",
    "    # Main Classifier\n",
    "    x = layers.AveragePooling2D((7, 7), strides=(1, 1))(x)\n",
    "    x = layers.Flatten()(x)\n",
    "    x = layers.Dense(512, activation='relu')(x)\n",
    "    outputs = layers.Dense(30, activation='linear')(x)\n",
    "    \n",
    "    model = tf.keras.models.Model(inputs=input_layer, outputs=outputs)\n",
    "    \n",
    "    return model"
   ]
  },
  {
   "cell_type": "code",
   "execution_count": 215,
   "metadata": {},
   "outputs": [
    {
     "name": "stdout",
     "output_type": "stream",
     "text": [
      "Epoch 1/10\n",
      "29/29 [==============================] - 22s 727ms/step - loss: 362.5806 - accuracy: 0.4105 - val_loss: 37.3544 - val_accuracy: 0.6805\n",
      "Epoch 2/10\n",
      "29/29 [==============================] - 20s 700ms/step - loss: 20.8756 - accuracy: 0.6864 - val_loss: 15.8894 - val_accuracy: 0.6805\n",
      "Epoch 3/10\n",
      "29/29 [==============================] - 22s 763ms/step - loss: 14.3454 - accuracy: 0.6864 - val_loss: 13.4060 - val_accuracy: 0.6805\n",
      "Epoch 4/10\n",
      "29/29 [==============================] - 21s 714ms/step - loss: 13.0166 - accuracy: 0.6864 - val_loss: 13.0194 - val_accuracy: 0.6805\n",
      "Epoch 5/10\n",
      "29/29 [==============================] - 21s 724ms/step - loss: 12.7573 - accuracy: 0.6864 - val_loss: 12.3922 - val_accuracy: 0.6805\n",
      "Epoch 6/10\n",
      "29/29 [==============================] - 21s 714ms/step - loss: 12.4105 - accuracy: 0.6864 - val_loss: 12.2142 - val_accuracy: 0.6805\n",
      "Epoch 7/10\n",
      "29/29 [==============================] - 21s 716ms/step - loss: 12.0309 - accuracy: 0.6858 - val_loss: 11.8154 - val_accuracy: 0.6805\n",
      "Epoch 8/10\n",
      "29/29 [==============================] - 21s 720ms/step - loss: 11.8989 - accuracy: 0.6886 - val_loss: 11.4917 - val_accuracy: 0.6805\n",
      "Epoch 9/10\n",
      "29/29 [==============================] - 23s 788ms/step - loss: 11.4956 - accuracy: 0.6869 - val_loss: 11.1446 - val_accuracy: 0.6783\n",
      "Epoch 10/10\n",
      "29/29 [==============================] - 22s 767ms/step - loss: 11.1978 - accuracy: 0.6886 - val_loss: 10.8384 - val_accuracy: 0.6783\n",
      "Model: \"model_3\"\n",
      "__________________________________________________________________________________________________\n",
      " Layer (type)                Output Shape                 Param #   Connected to                  \n",
      "==================================================================================================\n",
      " input_5 (InputLayer)        [(None, 96, 96, 1)]          0         []                            \n",
      "                                                                                                  \n",
      " conv2d_40 (Conv2D)          (None, 48, 48, 64)           3200      ['input_5[0][0]']             \n",
      "                                                                                                  \n",
      " max_pooling2d_10 (MaxPooli  (None, 24, 24, 64)           0         ['conv2d_40[0][0]']           \n",
      " ng2D)                                                                                            \n",
      "                                                                                                  \n",
      " conv2d_42 (Conv2D)          (None, 24, 24, 64)           4160      ['max_pooling2d_10[0][0]']    \n",
      "                                                                                                  \n",
      " conv2d_44 (Conv2D)          (None, 24, 24, 32)           2080      ['max_pooling2d_10[0][0]']    \n",
      "                                                                                                  \n",
      " max_pooling2d_11 (MaxPooli  (None, 24, 24, 64)           0         ['max_pooling2d_10[0][0]']    \n",
      " ng2D)                                                                                            \n",
      "                                                                                                  \n",
      " conv2d_41 (Conv2D)          (None, 24, 24, 64)           4160      ['max_pooling2d_10[0][0]']    \n",
      "                                                                                                  \n",
      " conv2d_43 (Conv2D)          (None, 24, 24, 128)          73856     ['conv2d_42[0][0]']           \n",
      "                                                                                                  \n",
      " conv2d_45 (Conv2D)          (None, 24, 24, 32)           25632     ['conv2d_44[0][0]']           \n",
      "                                                                                                  \n",
      " conv2d_46 (Conv2D)          (None, 24, 24, 32)           2080      ['max_pooling2d_11[0][0]']    \n",
      "                                                                                                  \n",
      " concatenate_6 (Concatenate  (None, 24, 24, 256)          0         ['conv2d_41[0][0]',           \n",
      " )                                                                   'conv2d_43[0][0]',           \n",
      "                                                                     'conv2d_45[0][0]',           \n",
      "                                                                     'conv2d_46[0][0]']           \n",
      "                                                                                                  \n",
      " conv2d_48 (Conv2D)          (None, 24, 24, 128)          32896     ['concatenate_6[0][0]']       \n",
      "                                                                                                  \n",
      " conv2d_50 (Conv2D)          (None, 24, 24, 96)           24672     ['concatenate_6[0][0]']       \n",
      "                                                                                                  \n",
      " max_pooling2d_12 (MaxPooli  (None, 24, 24, 256)          0         ['concatenate_6[0][0]']       \n",
      " ng2D)                                                                                            \n",
      "                                                                                                  \n",
      " conv2d_47 (Conv2D)          (None, 24, 24, 128)          32896     ['concatenate_6[0][0]']       \n",
      "                                                                                                  \n",
      " conv2d_49 (Conv2D)          (None, 24, 24, 192)          221376    ['conv2d_48[0][0]']           \n",
      "                                                                                                  \n",
      " conv2d_51 (Conv2D)          (None, 24, 24, 96)           230496    ['conv2d_50[0][0]']           \n",
      "                                                                                                  \n",
      " conv2d_52 (Conv2D)          (None, 24, 24, 64)           16448     ['max_pooling2d_12[0][0]']    \n",
      "                                                                                                  \n",
      " concatenate_7 (Concatenate  (None, 24, 24, 480)          0         ['conv2d_47[0][0]',           \n",
      " )                                                                   'conv2d_49[0][0]',           \n",
      "                                                                     'conv2d_51[0][0]',           \n",
      "                                                                     'conv2d_52[0][0]']           \n",
      "                                                                                                  \n",
      " average_pooling2d_3 (Avera  (None, 18, 18, 480)          0         ['concatenate_7[0][0]']       \n",
      " gePooling2D)                                                                                     \n",
      "                                                                                                  \n",
      " flatten_3 (Flatten)         (None, 155520)               0         ['average_pooling2d_3[0][0]'] \n",
      "                                                                                                  \n",
      " dense_6 (Dense)             (None, 512)                  7962675   ['flatten_3[0][0]']           \n",
      "                                                          2                                       \n",
      "                                                                                                  \n",
      " dense_7 (Dense)             (None, 30)                   15390     ['dense_6[0][0]']             \n",
      "                                                                                                  \n",
      "==================================================================================================\n",
      "Total params: 80316094 (306.38 MB)\n",
      "Trainable params: 80316094 (306.38 MB)\n",
      "Non-trainable params: 0 (0.00 Byte)\n",
      "__________________________________________________________________________________________________\n"
     ]
    }
   ],
   "source": [
    "input_shape = (96, 96, 1)\n",
    "history, model = model_prep(googlenet,input_shape,10)"
   ]
  },
  {
   "cell_type": "code",
   "execution_count": 218,
   "metadata": {},
   "outputs": [
    {
     "name": "stdout",
     "output_type": "stream",
     "text": [
      "Epoch 1/3\n",
      "29/29 [==============================] - 21s 737ms/step - loss: 5.4625 - accuracy: 0.7373 - val_loss: 6.0566 - val_accuracy: 0.7177\n",
      "Epoch 2/3\n",
      "29/29 [==============================] - 22s 769ms/step - loss: 5.4170 - accuracy: 0.7389 - val_loss: 6.1805 - val_accuracy: 0.7155\n",
      "Epoch 3/3\n",
      "29/29 [==============================] - 22s 768ms/step - loss: 5.3532 - accuracy: 0.7400 - val_loss: 6.4187 - val_accuracy: 0.7265\n"
     ]
    },
    {
     "data": {
      "text/plain": [
       "<keras.src.callbacks.History at 0x5065d8430>"
      ]
     },
     "execution_count": 218,
     "metadata": {},
     "output_type": "execute_result"
    }
   ],
   "source": [
    "model.fit(train_dataset, epochs = 3, validation_data = test_dataset)"
   ]
  },
  {
   "cell_type": "code",
   "execution_count": 226,
   "metadata": {},
   "outputs": [
    {
     "data": {
      "image/png": "[encoded data removed]",
      "text/plain": [
       "<Figure size 640x480 with 1 Axes>"
      ]
     },
     "metadata": {},
     "output_type": "display_data"
    },
    {
     "data": {
      "image/png": "[encoded data removed]",
      "text/plain": [
       "<Figure size 640x480 with 1 Axes>"
      ]
     },
     "metadata": {},
     "output_type": "display_data"
    }
   ],
   "source": [
    "acc = history.history['accuracy']\n",
    "val_acc = history.history['val_accuracy']\n",
    "loss = history.history['loss']\n",
    "val_loss = history.history['val_loss']\n",
    "history_epochs = range(len(acc))\n",
    "\n",
    "plt.plot(history_epochs, acc, 'r', label='accuracy')\n",
    "plt.plot(history_epochs, val_acc, 'blue', label='val_accuracy')\n",
    "plt.title('googlenet')\n",
    "plt.legend()\n",
    "plt.figure()\n",
    "\n",
    "plt.plot(history_epochs, loss, 'r', label='loss')\n",
    "plt.plot(history_epochs, val_loss, 'blue', label='val_loss')\n",
    "plt.title('googlenet')\n",
    "plt.legend()\n",
    "\n",
    "plt.show()"
   ]
  },
  {
   "cell_type": "code",
   "execution_count": 229,
   "metadata": {},
   "outputs": [],
   "source": [
    "def googlenetv2(input_shape):\n",
    "    input_layer = layers.Input(shape=input_shape)\n",
    "    \n",
    "    # Initial Convolution and MaxPooling\n",
    "    x = layers.Conv2D(64, (7, 7), strides=(2, 2), padding='same', activation='relu')(input_layer)\n",
    "    x = layers.MaxPooling2D((3, 3), strides=(2, 2), padding='same')(x)\n",
    "    \n",
    "    # Add a Conv layer to increase depth\n",
    "    x = layers.Conv2D(128, (3, 3), activation='relu', padding='same')(x)\n",
    "    \n",
    "    # Inception Modules with increased filter counts\n",
    "    x = inception_module(x, [128, 128, 256, 64, 64, 64])\n",
    "    x = inception_module(x, [256, 256, 384, 128, 128, 128])\n",
    "    \n",
    "    # Additional Inception Module\n",
    "    x = inception_module(x, [256, 256, 384, 128, 128, 128])\n",
    "\n",
    "    # Main Classifier with added dropout for regularization\n",
    "    x = layers.AveragePooling2D((7, 7), strides=(1, 1))(x)\n",
    "    x = layers.Flatten()(x)\n",
    "    x = layers.Dense(2048, activation='relu')(x)  # Increased number of neurons\n",
    "    x = layers.Dropout(0.4)(x)  # Dropout added\n",
    "    outputs = layers.Dense(30, activation='linear')(x)\n",
    "    \n",
    "    model = tf.keras.models.Model(inputs=input_layer, outputs=outputs)\n",
    "    \n",
    "    return model\n"
   ]
  },
  {
   "cell_type": "code",
   "execution_count": null,
   "metadata": {},
   "outputs": [],
   "source": [
    "input_shape = (96, 96, 1)\n",
    "history1, model1 = model_prep(googlenetv2,input_shape,30)"
   ]
  }
 ],
 "metadata": {
  "kernelspec": {
   "display_name": "Python 3",
   "language": "python",
   "name": "python3"
  },
  "language_info": {
   "codemirror_mode": {
    "name": "ipython",
    "version": 3
   },
   "file_extension": ".py",
   "mimetype": "text/x-python",
   "name": "python",
   "nbconvert_exporter": "python",
   "pygments_lexer": "ipython3",
   "version": "3.9.18"
  }
 },
 "nbformat": 4,
 "nbformat_minor": 2
}
